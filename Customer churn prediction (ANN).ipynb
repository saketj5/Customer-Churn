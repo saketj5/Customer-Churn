{
 "cells": [
  {
   "cell_type": "markdown",
   "metadata": {},
   "source": [
    "# Import Liabraries"
   ]
  },
  {
   "cell_type": "code",
   "execution_count": null,
   "metadata": {},
   "outputs": [],
   "source": [
    "import numpy as np\n",
    "import matplotlib.pyplot as plt\n",
    "import pandas as pd\n",
    "import tensorflow as tf"
   ]
  },
  {
   "cell_type": "code",
   "execution_count": 93,
   "metadata": {},
   "outputs": [
    {
     "data": {
      "text/plain": [
       "'2.5.0'"
      ]
     },
     "execution_count": 93,
     "metadata": {},
     "output_type": "execute_result"
    }
   ],
   "source": [
    "tf.__version__"
   ]
  },
  {
   "cell_type": "markdown",
   "metadata": {},
   "source": [
    "# Import Dataset"
   ]
  },
  {
   "cell_type": "code",
   "execution_count": 32,
   "metadata": {},
   "outputs": [],
   "source": [
    "dataset = pd.read_csv('C:/Users/User/Downloads/Telco-Customer-Churn.csv')\n",
    "x = dataset.iloc[:, 1:-1].values\n",
    "y = dataset.iloc[:, -1].values"
   ]
  },
  {
   "cell_type": "code",
   "execution_count": 33,
   "metadata": {},
   "outputs": [
    {
     "name": "stdout",
     "output_type": "stream",
     "text": [
      "[['Female' 0 'Yes' ... 'Electronic check' 29.85 '29.85']\n",
      " ['Male' 0 'No' ... 'Mailed check' 56.95 '1889.5']\n",
      " ['Male' 0 'No' ... 'Mailed check' 53.85 '108.15']\n",
      " ...\n",
      " ['Female' 0 'Yes' ... 'Electronic check' 29.6 '346.45']\n",
      " ['Male' 1 'Yes' ... 'Mailed check' 74.4 '306.6']\n",
      " ['Male' 0 'No' ... 'Bank transfer (automatic)' 105.65 '6844.5']]\n"
     ]
    }
   ],
   "source": [
    "print(x)"
   ]
  },
  {
   "cell_type": "code",
   "execution_count": 34,
   "metadata": {},
   "outputs": [
    {
     "name": "stdout",
     "output_type": "stream",
     "text": [
      "['No' 'No' 'Yes' ... 'No' 'Yes' 'No']\n"
     ]
    }
   ],
   "source": [
    "print(y)"
   ]
  },
  {
   "cell_type": "markdown",
   "metadata": {},
   "source": [
    "# Converting TotalCharges column from string to Integer"
   ]
  },
  {
   "cell_type": "code",
   "execution_count": 35,
   "metadata": {},
   "outputs": [
    {
     "data": {
      "text/plain": [
       "0       False\n",
       "1       False\n",
       "2       False\n",
       "3       False\n",
       "4       False\n",
       "        ...  \n",
       "7038    False\n",
       "7039    False\n",
       "7040    False\n",
       "7041    False\n",
       "7042    False\n",
       "Name: TotalCharges, Length: 7043, dtype: bool"
      ]
     },
     "execution_count": 35,
     "metadata": {},
     "output_type": "execute_result"
    }
   ],
   "source": [
    "#this will show the wheather the values in the total chargers are null or not\n",
    "#pd will convert the string datatype to numeric\n",
    "pd.to_numeric(dataset.TotalCharges, errors='coerce').isnull()"
   ]
  },
  {
   "cell_type": "code",
   "execution_count": 36,
   "metadata": {},
   "outputs": [
    {
     "data": {
      "text/html": [
       "<div>\n",
       "<style scoped>\n",
       "    .dataframe tbody tr th:only-of-type {\n",
       "        vertical-align: middle;\n",
       "    }\n",
       "\n",
       "    .dataframe tbody tr th {\n",
       "        vertical-align: top;\n",
       "    }\n",
       "\n",
       "    .dataframe thead th {\n",
       "        text-align: right;\n",
       "    }\n",
       "</style>\n",
       "<table border=\"1\" class=\"dataframe\">\n",
       "  <thead>\n",
       "    <tr style=\"text-align: right;\">\n",
       "      <th></th>\n",
       "      <th>customerID</th>\n",
       "      <th>gender</th>\n",
       "      <th>SeniorCitizen</th>\n",
       "      <th>Partner</th>\n",
       "      <th>Dependents</th>\n",
       "      <th>tenure</th>\n",
       "      <th>PhoneService</th>\n",
       "      <th>MultipleLines</th>\n",
       "      <th>InternetService</th>\n",
       "      <th>OnlineSecurity</th>\n",
       "      <th>...</th>\n",
       "      <th>DeviceProtection</th>\n",
       "      <th>TechSupport</th>\n",
       "      <th>StreamingTV</th>\n",
       "      <th>StreamingMovies</th>\n",
       "      <th>Contract</th>\n",
       "      <th>PaperlessBilling</th>\n",
       "      <th>PaymentMethod</th>\n",
       "      <th>MonthlyCharges</th>\n",
       "      <th>TotalCharges</th>\n",
       "      <th>Churn</th>\n",
       "    </tr>\n",
       "  </thead>\n",
       "  <tbody>\n",
       "    <tr>\n",
       "      <th>488</th>\n",
       "      <td>4472-LVYGI</td>\n",
       "      <td>Female</td>\n",
       "      <td>0</td>\n",
       "      <td>Yes</td>\n",
       "      <td>Yes</td>\n",
       "      <td>0</td>\n",
       "      <td>No</td>\n",
       "      <td>No phone service</td>\n",
       "      <td>DSL</td>\n",
       "      <td>Yes</td>\n",
       "      <td>...</td>\n",
       "      <td>Yes</td>\n",
       "      <td>Yes</td>\n",
       "      <td>Yes</td>\n",
       "      <td>No</td>\n",
       "      <td>Two year</td>\n",
       "      <td>Yes</td>\n",
       "      <td>Bank transfer (automatic)</td>\n",
       "      <td>52.55</td>\n",
       "      <td></td>\n",
       "      <td>No</td>\n",
       "    </tr>\n",
       "    <tr>\n",
       "      <th>753</th>\n",
       "      <td>3115-CZMZD</td>\n",
       "      <td>Male</td>\n",
       "      <td>0</td>\n",
       "      <td>No</td>\n",
       "      <td>Yes</td>\n",
       "      <td>0</td>\n",
       "      <td>Yes</td>\n",
       "      <td>No</td>\n",
       "      <td>No</td>\n",
       "      <td>No internet service</td>\n",
       "      <td>...</td>\n",
       "      <td>No internet service</td>\n",
       "      <td>No internet service</td>\n",
       "      <td>No internet service</td>\n",
       "      <td>No internet service</td>\n",
       "      <td>Two year</td>\n",
       "      <td>No</td>\n",
       "      <td>Mailed check</td>\n",
       "      <td>20.25</td>\n",
       "      <td></td>\n",
       "      <td>No</td>\n",
       "    </tr>\n",
       "    <tr>\n",
       "      <th>936</th>\n",
       "      <td>5709-LVOEQ</td>\n",
       "      <td>Female</td>\n",
       "      <td>0</td>\n",
       "      <td>Yes</td>\n",
       "      <td>Yes</td>\n",
       "      <td>0</td>\n",
       "      <td>Yes</td>\n",
       "      <td>No</td>\n",
       "      <td>DSL</td>\n",
       "      <td>Yes</td>\n",
       "      <td>...</td>\n",
       "      <td>Yes</td>\n",
       "      <td>No</td>\n",
       "      <td>Yes</td>\n",
       "      <td>Yes</td>\n",
       "      <td>Two year</td>\n",
       "      <td>No</td>\n",
       "      <td>Mailed check</td>\n",
       "      <td>80.85</td>\n",
       "      <td></td>\n",
       "      <td>No</td>\n",
       "    </tr>\n",
       "    <tr>\n",
       "      <th>1082</th>\n",
       "      <td>4367-NUYAO</td>\n",
       "      <td>Male</td>\n",
       "      <td>0</td>\n",
       "      <td>Yes</td>\n",
       "      <td>Yes</td>\n",
       "      <td>0</td>\n",
       "      <td>Yes</td>\n",
       "      <td>Yes</td>\n",
       "      <td>No</td>\n",
       "      <td>No internet service</td>\n",
       "      <td>...</td>\n",
       "      <td>No internet service</td>\n",
       "      <td>No internet service</td>\n",
       "      <td>No internet service</td>\n",
       "      <td>No internet service</td>\n",
       "      <td>Two year</td>\n",
       "      <td>No</td>\n",
       "      <td>Mailed check</td>\n",
       "      <td>25.75</td>\n",
       "      <td></td>\n",
       "      <td>No</td>\n",
       "    </tr>\n",
       "    <tr>\n",
       "      <th>1340</th>\n",
       "      <td>1371-DWPAZ</td>\n",
       "      <td>Female</td>\n",
       "      <td>0</td>\n",
       "      <td>Yes</td>\n",
       "      <td>Yes</td>\n",
       "      <td>0</td>\n",
       "      <td>No</td>\n",
       "      <td>No phone service</td>\n",
       "      <td>DSL</td>\n",
       "      <td>Yes</td>\n",
       "      <td>...</td>\n",
       "      <td>Yes</td>\n",
       "      <td>Yes</td>\n",
       "      <td>Yes</td>\n",
       "      <td>No</td>\n",
       "      <td>Two year</td>\n",
       "      <td>No</td>\n",
       "      <td>Credit card (automatic)</td>\n",
       "      <td>56.05</td>\n",
       "      <td></td>\n",
       "      <td>No</td>\n",
       "    </tr>\n",
       "    <tr>\n",
       "      <th>3331</th>\n",
       "      <td>7644-OMVMY</td>\n",
       "      <td>Male</td>\n",
       "      <td>0</td>\n",
       "      <td>Yes</td>\n",
       "      <td>Yes</td>\n",
       "      <td>0</td>\n",
       "      <td>Yes</td>\n",
       "      <td>No</td>\n",
       "      <td>No</td>\n",
       "      <td>No internet service</td>\n",
       "      <td>...</td>\n",
       "      <td>No internet service</td>\n",
       "      <td>No internet service</td>\n",
       "      <td>No internet service</td>\n",
       "      <td>No internet service</td>\n",
       "      <td>Two year</td>\n",
       "      <td>No</td>\n",
       "      <td>Mailed check</td>\n",
       "      <td>19.85</td>\n",
       "      <td></td>\n",
       "      <td>No</td>\n",
       "    </tr>\n",
       "    <tr>\n",
       "      <th>3826</th>\n",
       "      <td>3213-VVOLG</td>\n",
       "      <td>Male</td>\n",
       "      <td>0</td>\n",
       "      <td>Yes</td>\n",
       "      <td>Yes</td>\n",
       "      <td>0</td>\n",
       "      <td>Yes</td>\n",
       "      <td>Yes</td>\n",
       "      <td>No</td>\n",
       "      <td>No internet service</td>\n",
       "      <td>...</td>\n",
       "      <td>No internet service</td>\n",
       "      <td>No internet service</td>\n",
       "      <td>No internet service</td>\n",
       "      <td>No internet service</td>\n",
       "      <td>Two year</td>\n",
       "      <td>No</td>\n",
       "      <td>Mailed check</td>\n",
       "      <td>25.35</td>\n",
       "      <td></td>\n",
       "      <td>No</td>\n",
       "    </tr>\n",
       "    <tr>\n",
       "      <th>4380</th>\n",
       "      <td>2520-SGTTA</td>\n",
       "      <td>Female</td>\n",
       "      <td>0</td>\n",
       "      <td>Yes</td>\n",
       "      <td>Yes</td>\n",
       "      <td>0</td>\n",
       "      <td>Yes</td>\n",
       "      <td>No</td>\n",
       "      <td>No</td>\n",
       "      <td>No internet service</td>\n",
       "      <td>...</td>\n",
       "      <td>No internet service</td>\n",
       "      <td>No internet service</td>\n",
       "      <td>No internet service</td>\n",
       "      <td>No internet service</td>\n",
       "      <td>Two year</td>\n",
       "      <td>No</td>\n",
       "      <td>Mailed check</td>\n",
       "      <td>20.00</td>\n",
       "      <td></td>\n",
       "      <td>No</td>\n",
       "    </tr>\n",
       "    <tr>\n",
       "      <th>5218</th>\n",
       "      <td>2923-ARZLG</td>\n",
       "      <td>Male</td>\n",
       "      <td>0</td>\n",
       "      <td>Yes</td>\n",
       "      <td>Yes</td>\n",
       "      <td>0</td>\n",
       "      <td>Yes</td>\n",
       "      <td>No</td>\n",
       "      <td>No</td>\n",
       "      <td>No internet service</td>\n",
       "      <td>...</td>\n",
       "      <td>No internet service</td>\n",
       "      <td>No internet service</td>\n",
       "      <td>No internet service</td>\n",
       "      <td>No internet service</td>\n",
       "      <td>One year</td>\n",
       "      <td>Yes</td>\n",
       "      <td>Mailed check</td>\n",
       "      <td>19.70</td>\n",
       "      <td></td>\n",
       "      <td>No</td>\n",
       "    </tr>\n",
       "    <tr>\n",
       "      <th>6670</th>\n",
       "      <td>4075-WKNIU</td>\n",
       "      <td>Female</td>\n",
       "      <td>0</td>\n",
       "      <td>Yes</td>\n",
       "      <td>Yes</td>\n",
       "      <td>0</td>\n",
       "      <td>Yes</td>\n",
       "      <td>Yes</td>\n",
       "      <td>DSL</td>\n",
       "      <td>No</td>\n",
       "      <td>...</td>\n",
       "      <td>Yes</td>\n",
       "      <td>Yes</td>\n",
       "      <td>Yes</td>\n",
       "      <td>No</td>\n",
       "      <td>Two year</td>\n",
       "      <td>No</td>\n",
       "      <td>Mailed check</td>\n",
       "      <td>73.35</td>\n",
       "      <td></td>\n",
       "      <td>No</td>\n",
       "    </tr>\n",
       "    <tr>\n",
       "      <th>6754</th>\n",
       "      <td>2775-SEFEE</td>\n",
       "      <td>Male</td>\n",
       "      <td>0</td>\n",
       "      <td>No</td>\n",
       "      <td>Yes</td>\n",
       "      <td>0</td>\n",
       "      <td>Yes</td>\n",
       "      <td>Yes</td>\n",
       "      <td>DSL</td>\n",
       "      <td>Yes</td>\n",
       "      <td>...</td>\n",
       "      <td>No</td>\n",
       "      <td>Yes</td>\n",
       "      <td>No</td>\n",
       "      <td>No</td>\n",
       "      <td>Two year</td>\n",
       "      <td>Yes</td>\n",
       "      <td>Bank transfer (automatic)</td>\n",
       "      <td>61.90</td>\n",
       "      <td></td>\n",
       "      <td>No</td>\n",
       "    </tr>\n",
       "  </tbody>\n",
       "</table>\n",
       "<p>11 rows × 21 columns</p>\n",
       "</div>"
      ],
      "text/plain": [
       "      customerID  gender  SeniorCitizen Partner Dependents  tenure  \\\n",
       "488   4472-LVYGI  Female              0     Yes        Yes       0   \n",
       "753   3115-CZMZD    Male              0      No        Yes       0   \n",
       "936   5709-LVOEQ  Female              0     Yes        Yes       0   \n",
       "1082  4367-NUYAO    Male              0     Yes        Yes       0   \n",
       "1340  1371-DWPAZ  Female              0     Yes        Yes       0   \n",
       "3331  7644-OMVMY    Male              0     Yes        Yes       0   \n",
       "3826  3213-VVOLG    Male              0     Yes        Yes       0   \n",
       "4380  2520-SGTTA  Female              0     Yes        Yes       0   \n",
       "5218  2923-ARZLG    Male              0     Yes        Yes       0   \n",
       "6670  4075-WKNIU  Female              0     Yes        Yes       0   \n",
       "6754  2775-SEFEE    Male              0      No        Yes       0   \n",
       "\n",
       "     PhoneService     MultipleLines InternetService       OnlineSecurity  ...  \\\n",
       "488            No  No phone service             DSL                  Yes  ...   \n",
       "753           Yes                No              No  No internet service  ...   \n",
       "936           Yes                No             DSL                  Yes  ...   \n",
       "1082          Yes               Yes              No  No internet service  ...   \n",
       "1340           No  No phone service             DSL                  Yes  ...   \n",
       "3331          Yes                No              No  No internet service  ...   \n",
       "3826          Yes               Yes              No  No internet service  ...   \n",
       "4380          Yes                No              No  No internet service  ...   \n",
       "5218          Yes                No              No  No internet service  ...   \n",
       "6670          Yes               Yes             DSL                   No  ...   \n",
       "6754          Yes               Yes             DSL                  Yes  ...   \n",
       "\n",
       "         DeviceProtection          TechSupport          StreamingTV  \\\n",
       "488                   Yes                  Yes                  Yes   \n",
       "753   No internet service  No internet service  No internet service   \n",
       "936                   Yes                   No                  Yes   \n",
       "1082  No internet service  No internet service  No internet service   \n",
       "1340                  Yes                  Yes                  Yes   \n",
       "3331  No internet service  No internet service  No internet service   \n",
       "3826  No internet service  No internet service  No internet service   \n",
       "4380  No internet service  No internet service  No internet service   \n",
       "5218  No internet service  No internet service  No internet service   \n",
       "6670                  Yes                  Yes                  Yes   \n",
       "6754                   No                  Yes                   No   \n",
       "\n",
       "          StreamingMovies  Contract PaperlessBilling  \\\n",
       "488                    No  Two year              Yes   \n",
       "753   No internet service  Two year               No   \n",
       "936                   Yes  Two year               No   \n",
       "1082  No internet service  Two year               No   \n",
       "1340                   No  Two year               No   \n",
       "3331  No internet service  Two year               No   \n",
       "3826  No internet service  Two year               No   \n",
       "4380  No internet service  Two year               No   \n",
       "5218  No internet service  One year              Yes   \n",
       "6670                   No  Two year               No   \n",
       "6754                   No  Two year              Yes   \n",
       "\n",
       "                  PaymentMethod MonthlyCharges  TotalCharges Churn  \n",
       "488   Bank transfer (automatic)          52.55                  No  \n",
       "753                Mailed check          20.25                  No  \n",
       "936                Mailed check          80.85                  No  \n",
       "1082               Mailed check          25.75                  No  \n",
       "1340    Credit card (automatic)          56.05                  No  \n",
       "3331               Mailed check          19.85                  No  \n",
       "3826               Mailed check          25.35                  No  \n",
       "4380               Mailed check          20.00                  No  \n",
       "5218               Mailed check          19.70                  No  \n",
       "6670               Mailed check          73.35                  No  \n",
       "6754  Bank transfer (automatic)          61.90                  No  \n",
       "\n",
       "[11 rows x 21 columns]"
      ]
     },
     "execution_count": 36,
     "metadata": {},
     "output_type": "execute_result"
    }
   ],
   "source": [
    "#this will show the dataset with null values in the TotalCharges column\n",
    "dataset[pd.to_numeric(dataset.TotalCharges, errors='coerce').isnull()] "
   ]
  },
  {
   "cell_type": "markdown",
   "metadata": {},
   "source": [
    "## Taking care of missing values"
   ]
  },
  {
   "cell_type": "code",
   "execution_count": 37,
   "metadata": {},
   "outputs": [
    {
     "data": {
      "text/plain": [
       "(7032, 21)"
      ]
     },
     "execution_count": 37,
     "metadata": {},
     "output_type": "execute_result"
    }
   ],
   "source": [
    " #There were only 11 rows with value null in it for TotalCharges, so we dropped those 11 rows fromm total of 7043 rows\n",
    "dataset1= dataset[dataset.TotalCharges!=' ']\n",
    "dataset1.shape"
   ]
  },
  {
   "cell_type": "code",
   "execution_count": 38,
   "metadata": {},
   "outputs": [
    {
     "name": "stderr",
     "output_type": "stream",
     "text": [
      "C:\\Users\\User\\anaconda3\\lib\\site-packages\\pandas\\core\\generic.py:5303: SettingWithCopyWarning: \n",
      "A value is trying to be set on a copy of a slice from a DataFrame.\n",
      "Try using .loc[row_indexer,col_indexer] = value instead\n",
      "\n",
      "See the caveats in the documentation: https://pandas.pydata.org/pandas-docs/stable/user_guide/indexing.html#returning-a-view-versus-a-copy\n",
      "  self[name] = value\n"
     ]
    }
   ],
   "source": [
    "#Now theere is new dataset1 without any null values\n",
    "dataset1.TotalCharges= pd.to_numeric(dataset1.TotalCharges)"
   ]
  },
  {
   "cell_type": "code",
   "execution_count": 39,
   "metadata": {},
   "outputs": [
    {
     "data": {
      "text/plain": [
       "dtype('float64')"
      ]
     },
     "execution_count": 39,
     "metadata": {},
     "output_type": "execute_result"
    }
   ],
   "source": [
    "dataset1.TotalCharges.dtypes"
   ]
  },
  {
   "cell_type": "code",
   "execution_count": 41,
   "metadata": {},
   "outputs": [],
   "source": [
    "#storing new dataset1 values in x1 and y1\n",
    "x1 = dataset1.iloc[:, 1:-1].values\n",
    "y1 = dataset1.iloc[:, -1].values"
   ]
  },
  {
   "cell_type": "code",
   "execution_count": 42,
   "metadata": {},
   "outputs": [
    {
     "name": "stdout",
     "output_type": "stream",
     "text": [
      "[['Female' 0 'Yes' ... 'Electronic check' 29.85 29.85]\n",
      " ['Male' 0 'No' ... 'Mailed check' 56.95 1889.5]\n",
      " ['Male' 0 'No' ... 'Mailed check' 53.85 108.15]\n",
      " ...\n",
      " ['Female' 0 'Yes' ... 'Electronic check' 29.6 346.45]\n",
      " ['Male' 1 'Yes' ... 'Mailed check' 74.4 306.6]\n",
      " ['Male' 0 'No' ... 'Bank transfer (automatic)' 105.65 6844.5]]\n"
     ]
    }
   ],
   "source": [
    "print(x1)"
   ]
  },
  {
   "cell_type": "markdown",
   "metadata": {},
   "source": [
    "# Encoding the Categorical data"
   ]
  },
  {
   "cell_type": "markdown",
   "metadata": {},
   "source": [
    "## Encoding Independent Variable"
   ]
  },
  {
   "cell_type": "code",
   "execution_count": 43,
   "metadata": {},
   "outputs": [],
   "source": [
    "from sklearn.compose import ColumnTransformer\n",
    "from sklearn.preprocessing import OneHotEncoder\n",
    "ct = ColumnTransformer(transformers=[('encoder', OneHotEncoder(), [0,2,3,5,6,7,8,9,10,11,12,13,14,15,16])], remainder= 'passthrough')\n",
    "x1 = np.array(ct.fit_transform(x1)) "
   ]
  },
  {
   "cell_type": "code",
   "execution_count": 46,
   "metadata": {},
   "outputs": [
    {
     "name": "stdout",
     "output_type": "stream",
     "text": [
      "[[1.0 0.0 0.0 ... 1 29.85 29.85]\n",
      " [0.0 1.0 1.0 ... 34 56.95 1889.5]\n",
      " [0.0 1.0 1.0 ... 2 53.85 108.15]\n",
      " ...\n",
      " [1.0 0.0 0.0 ... 11 29.6 346.45]\n",
      " [0.0 1.0 0.0 ... 4 74.4 306.6]\n",
      " [0.0 1.0 1.0 ... 66 105.65 6844.5]]\n"
     ]
    }
   ],
   "source": [
    "print(x1)"
   ]
  },
  {
   "cell_type": "markdown",
   "metadata": {},
   "source": [
    "## Encoding Dependent variable"
   ]
  },
  {
   "cell_type": "code",
   "execution_count": 50,
   "metadata": {},
   "outputs": [],
   "source": [
    "from sklearn.preprocessing import LabelEncoder\n",
    "le = LabelEncoder()\n",
    "y1 = le.fit_transform(y1) "
   ]
  },
  {
   "cell_type": "code",
   "execution_count": 51,
   "metadata": {},
   "outputs": [
    {
     "name": "stdout",
     "output_type": "stream",
     "text": [
      "[0 0 1 ... 0 1 0]\n"
     ]
    }
   ],
   "source": [
    "print(y1)"
   ]
  },
  {
   "cell_type": "markdown",
   "metadata": {},
   "source": [
    "# Splitting dataset1 into training set and test set"
   ]
  },
  {
   "cell_type": "code",
   "execution_count": 83,
   "metadata": {},
   "outputs": [],
   "source": [
    "from sklearn.model_selection import train_test_split\n",
    "x1_train, x1_test, y1_train, y1_test = train_test_split(x1, y1, test_size = 0.25, random_state = 1 )"
   ]
  },
  {
   "cell_type": "code",
   "execution_count": 84,
   "metadata": {},
   "outputs": [
    {
     "name": "stdout",
     "output_type": "stream",
     "text": [
      "[[1.0 0.0 0.0 ... 71 105.15 7555.0]\n",
      " [1.0 0.0 1.0 ... 49 19.45 921.3]\n",
      " [0.0 1.0 1.0 ... 72 19.3 1414.8]\n",
      " ...\n",
      " [1.0 0.0 1.0 ... 11 76.5 837.95]\n",
      " [0.0 1.0 1.0 ... 2 54.4 114.1]\n",
      " [0.0 1.0 1.0 ... 1 69.65 69.65]]\n"
     ]
    }
   ],
   "source": [
    "print(x1_train)"
   ]
  },
  {
   "cell_type": "code",
   "execution_count": 88,
   "metadata": {},
   "outputs": [
    {
     "name": "stdout",
     "output_type": "stream",
     "text": [
      "[0 0 0 ... 1 1 1]\n"
     ]
    }
   ],
   "source": [
    "print(y1_train)"
   ]
  },
  {
   "cell_type": "markdown",
   "metadata": {},
   "source": [
    "# Feature scaling "
   ]
  },
  {
   "cell_type": "code",
   "execution_count": 89,
   "metadata": {},
   "outputs": [],
   "source": [
    "# making numerical values b/w -3 to +3\n",
    "from sklearn.preprocessing import StandardScaler\n",
    "sc = StandardScaler()\n",
    "x1_train = sc.fit_transform(x1_train)\n",
    "x1_test = sc.transform(x1_test)"
   ]
  },
  {
   "cell_type": "code",
   "execution_count": 90,
   "metadata": {},
   "outputs": [
    {
     "name": "stdout",
     "output_type": "stream",
     "text": [
      "[[ 1.00952584 -1.00952584 -1.03866899 ...  1.57743883  1.33038512\n",
      "   2.30352715]\n",
      " [ 1.00952584 -1.00952584  0.96277063 ...  0.68114359 -1.51085447\n",
      "  -0.60110389]\n",
      " [-0.99056405  0.99056405  0.96277063 ...  1.61817952 -1.51582747\n",
      "  -0.38502005]\n",
      " ...\n",
      " [ 1.00952584 -1.00952584  0.96277063 ... -0.86700272  0.38054248\n",
      "  -0.63759951]\n",
      " [-0.99056405  0.99056405  0.96277063 ... -1.23366896 -0.35214591\n",
      "  -0.95454438]\n",
      " [-0.99056405  0.99056405  0.96277063 ... -1.27440965  0.15344223\n",
      "  -0.97400726]]\n"
     ]
    }
   ],
   "source": [
    "print(x1_train)"
   ]
  },
  {
   "cell_type": "code",
   "execution_count": 91,
   "metadata": {},
   "outputs": [
    {
     "name": "stdout",
     "output_type": "stream",
     "text": [
      "[[-0.99056405  0.99056405 -1.03866899 ...  1.61817952 -1.33514187\n",
      "  -0.1904789 ]\n",
      " [ 1.00952584 -1.00952584 -1.03866899 ... -0.66329926  0.67394937\n",
      "  -0.40238119]\n",
      " [ 1.00952584 -1.00952584  0.96277063 ...  1.25151329  1.07510455\n",
      "   1.7334336 ]\n",
      " ...\n",
      " [ 1.00952584 -1.00952584  0.96277063 ...  1.21077259  0.96072559\n",
      "   1.51634267]\n",
      " [ 1.00952584 -1.00952584 -1.03866899 ... -0.13367026 -1.29038489\n",
      "  -0.70126434]\n",
      " [ 1.00952584 -1.00952584 -1.03866899 ...  0.84410636  1.29391646\n",
      "   1.43279901]]\n"
     ]
    }
   ],
   "source": [
    "print(x1_test)"
   ]
  },
  {
   "cell_type": "markdown",
   "metadata": {},
   "source": [
    "# Building ANN"
   ]
  },
  {
   "cell_type": "code",
   "execution_count": 94,
   "metadata": {},
   "outputs": [],
   "source": [
    "#Step 1: Initializing the ANN\n",
    "ann = tf.keras.models.Sequential()\n"
   ]
  },
  {
   "cell_type": "code",
   "execution_count": 95,
   "metadata": {},
   "outputs": [],
   "source": [
    "#step 2: Adding the input layer and first hidden layer\n",
    "ann.add(tf.keras.layers.Dense(units=6, activation='relu'))"
   ]
  },
  {
   "cell_type": "code",
   "execution_count": 96,
   "metadata": {},
   "outputs": [],
   "source": [
    "#step 3: Adding second hidden layer\n",
    "ann.add(tf.keras.layers.Dense(units=6, activation='relu'))"
   ]
  },
  {
   "cell_type": "code",
   "execution_count": 97,
   "metadata": {},
   "outputs": [],
   "source": [
    "#step 4: Adding the Output layer\n",
    "ann.add(tf.keras.layers.Dense(units=1, activation='sigmoid'))"
   ]
  },
  {
   "cell_type": "markdown",
   "metadata": {},
   "source": [
    "# Training the ANN"
   ]
  },
  {
   "cell_type": "code",
   "execution_count": 98,
   "metadata": {},
   "outputs": [],
   "source": [
    "#Compiling the ANN\n",
    "ann.compile(optimizer= 'adam', loss= 'binary_crossentropy', metrics= ['accuracy'])"
   ]
  },
  {
   "cell_type": "code",
   "execution_count": 125,
   "metadata": {},
   "outputs": [
    {
     "name": "stdout",
     "output_type": "stream",
     "text": [
      "Epoch 1/100\n",
      "83/83 [==============================] - 0s 2ms/step - loss: 0.3845 - accuracy: 0.8165\n",
      "Epoch 2/100\n",
      "83/83 [==============================] - 0s 3ms/step - loss: 0.3838 - accuracy: 0.8168\n",
      "Epoch 3/100\n",
      "83/83 [==============================] - 0s 2ms/step - loss: 0.3838 - accuracy: 0.8174\n",
      "Epoch 4/100\n",
      "83/83 [==============================] - 0s 2ms/step - loss: 0.3835 - accuracy: 0.8168\n",
      "Epoch 5/100\n",
      "83/83 [==============================] - 0s 3ms/step - loss: 0.3836 - accuracy: 0.8159\n",
      "Epoch 6/100\n",
      "83/83 [==============================] - 0s 3ms/step - loss: 0.3836 - accuracy: 0.8166\n",
      "Epoch 7/100\n",
      "83/83 [==============================] - 0s 3ms/step - loss: 0.3832 - accuracy: 0.8166\n",
      "Epoch 8/100\n",
      "83/83 [==============================] - 0s 3ms/step - loss: 0.3833 - accuracy: 0.8161\n",
      "Epoch 9/100\n",
      "83/83 [==============================] - 0s 3ms/step - loss: 0.3830 - accuracy: 0.8182\n",
      "Epoch 10/100\n",
      "83/83 [==============================] - 0s 2ms/step - loss: 0.3834 - accuracy: 0.8166\n",
      "Epoch 11/100\n",
      "83/83 [==============================] - 0s 3ms/step - loss: 0.3834 - accuracy: 0.8163\n",
      "Epoch 12/100\n",
      "83/83 [==============================] - 0s 3ms/step - loss: 0.3837 - accuracy: 0.8187\n",
      "Epoch 13/100\n",
      "83/83 [==============================] - 0s 3ms/step - loss: 0.3831 - accuracy: 0.8187\n",
      "Epoch 14/100\n",
      "83/83 [==============================] - 0s 3ms/step - loss: 0.3830 - accuracy: 0.8168\n",
      "Epoch 15/100\n",
      "83/83 [==============================] - 0s 3ms/step - loss: 0.3834 - accuracy: 0.8195\n",
      "Epoch 16/100\n",
      "83/83 [==============================] - 0s 3ms/step - loss: 0.3830 - accuracy: 0.8168\n",
      "Epoch 17/100\n",
      "83/83 [==============================] - 0s 3ms/step - loss: 0.3833 - accuracy: 0.8189\n",
      "Epoch 18/100\n",
      "83/83 [==============================] - 0s 3ms/step - loss: 0.3839 - accuracy: 0.8180\n",
      "Epoch 19/100\n",
      "83/83 [==============================] - 0s 3ms/step - loss: 0.3833 - accuracy: 0.8172\n",
      "Epoch 20/100\n",
      "83/83 [==============================] - 0s 3ms/step - loss: 0.3832 - accuracy: 0.8184\n",
      "Epoch 21/100\n",
      "83/83 [==============================] - 0s 3ms/step - loss: 0.3830 - accuracy: 0.8166\n",
      "Epoch 22/100\n",
      "83/83 [==============================] - 0s 3ms/step - loss: 0.3840 - accuracy: 0.8185\n",
      "Epoch 23/100\n",
      "83/83 [==============================] - 0s 3ms/step - loss: 0.3843 - accuracy: 0.8168\n",
      "Epoch 24/100\n",
      "83/83 [==============================] - 0s 3ms/step - loss: 0.3841 - accuracy: 0.8182\n",
      "Epoch 25/100\n",
      "83/83 [==============================] - 0s 3ms/step - loss: 0.3836 - accuracy: 0.8176\n",
      "Epoch 26/100\n",
      "83/83 [==============================] - 0s 3ms/step - loss: 0.3847 - accuracy: 0.8174\n",
      "Epoch 27/100\n",
      "83/83 [==============================] - 0s 3ms/step - loss: 0.3843 - accuracy: 0.8178\n",
      "Epoch 28/100\n",
      "83/83 [==============================] - 0s 3ms/step - loss: 0.3845 - accuracy: 0.8168\n",
      "Epoch 29/100\n",
      "83/83 [==============================] - 0s 3ms/step - loss: 0.3845 - accuracy: 0.8161\n",
      "Epoch 30/100\n",
      "83/83 [==============================] - 0s 3ms/step - loss: 0.3841 - accuracy: 0.8184\n",
      "Epoch 31/100\n",
      "83/83 [==============================] - 0s 3ms/step - loss: 0.3843 - accuracy: 0.8170\n",
      "Epoch 32/100\n",
      "83/83 [==============================] - 0s 3ms/step - loss: 0.3842 - accuracy: 0.8170\n",
      "Epoch 33/100\n",
      "83/83 [==============================] - 0s 3ms/step - loss: 0.3842 - accuracy: 0.8159\n",
      "Epoch 34/100\n",
      "83/83 [==============================] - 0s 3ms/step - loss: 0.3839 - accuracy: 0.8193\n",
      "Epoch 35/100\n",
      "83/83 [==============================] - 0s 3ms/step - loss: 0.3839 - accuracy: 0.8163\n",
      "Epoch 36/100\n",
      "83/83 [==============================] - 0s 3ms/step - loss: 0.3837 - accuracy: 0.8168\n",
      "Epoch 37/100\n",
      "83/83 [==============================] - 0s 3ms/step - loss: 0.3844 - accuracy: 0.8178\n",
      "Epoch 38/100\n",
      "83/83 [==============================] - 0s 3ms/step - loss: 0.3845 - accuracy: 0.8165\n",
      "Epoch 39/100\n",
      "83/83 [==============================] - 0s 3ms/step - loss: 0.3837 - accuracy: 0.8176\n",
      "Epoch 40/100\n",
      "83/83 [==============================] - 0s 3ms/step - loss: 0.3832 - accuracy: 0.8170\n",
      "Epoch 41/100\n",
      "83/83 [==============================] - 0s 3ms/step - loss: 0.3846 - accuracy: 0.8138\n",
      "Epoch 42/100\n",
      "83/83 [==============================] - 0s 3ms/step - loss: 0.3836 - accuracy: 0.8157\n",
      "Epoch 43/100\n",
      "83/83 [==============================] - 0s 4ms/step - loss: 0.3838 - accuracy: 0.8185\n",
      "Epoch 44/100\n",
      "83/83 [==============================] - 0s 3ms/step - loss: 0.3834 - accuracy: 0.8159\n",
      "Epoch 45/100\n",
      "83/83 [==============================] - 0s 3ms/step - loss: 0.3835 - accuracy: 0.8168\n",
      "Epoch 46/100\n",
      "83/83 [==============================] - 0s 3ms/step - loss: 0.3838 - accuracy: 0.8176\n",
      "Epoch 47/100\n",
      "83/83 [==============================] - 0s 3ms/step - loss: 0.3837 - accuracy: 0.8170\n",
      "Epoch 48/100\n",
      "83/83 [==============================] - 0s 3ms/step - loss: 0.3835 - accuracy: 0.8166\n",
      "Epoch 49/100\n",
      "83/83 [==============================] - 0s 3ms/step - loss: 0.3839 - accuracy: 0.8166\n",
      "Epoch 50/100\n",
      "83/83 [==============================] - 0s 3ms/step - loss: 0.3840 - accuracy: 0.8163\n",
      "Epoch 51/100\n",
      "83/83 [==============================] - 0s 3ms/step - loss: 0.3837 - accuracy: 0.8166\n",
      "Epoch 52/100\n",
      "83/83 [==============================] - 0s 3ms/step - loss: 0.3838 - accuracy: 0.8187\n",
      "Epoch 53/100\n",
      "83/83 [==============================] - 0s 3ms/step - loss: 0.3839 - accuracy: 0.8180\n",
      "Epoch 54/100\n",
      "83/83 [==============================] - 0s 3ms/step - loss: 0.3833 - accuracy: 0.8151\n",
      "Epoch 55/100\n",
      "83/83 [==============================] - 0s 3ms/step - loss: 0.3843 - accuracy: 0.8193\n",
      "Epoch 56/100\n",
      "83/83 [==============================] - 0s 3ms/step - loss: 0.3841 - accuracy: 0.8168\n",
      "Epoch 57/100\n",
      "83/83 [==============================] - 0s 3ms/step - loss: 0.3845 - accuracy: 0.8184\n",
      "Epoch 58/100\n",
      "83/83 [==============================] - 0s 3ms/step - loss: 0.3838 - accuracy: 0.8166\n",
      "Epoch 59/100\n",
      "83/83 [==============================] - 0s 3ms/step - loss: 0.3841 - accuracy: 0.8159\n",
      "Epoch 60/100\n",
      "83/83 [==============================] - 0s 3ms/step - loss: 0.3840 - accuracy: 0.8157\n",
      "Epoch 61/100\n",
      "83/83 [==============================] - 0s 3ms/step - loss: 0.3837 - accuracy: 0.8144\n",
      "Epoch 62/100\n",
      "83/83 [==============================] - 0s 3ms/step - loss: 0.3839 - accuracy: 0.8163\n",
      "Epoch 63/100\n",
      "83/83 [==============================] - 0s 3ms/step - loss: 0.3840 - accuracy: 0.8189\n",
      "Epoch 64/100\n",
      "83/83 [==============================] - 0s 3ms/step - loss: 0.3837 - accuracy: 0.8191\n",
      "Epoch 65/100\n",
      "83/83 [==============================] - 0s 4ms/step - loss: 0.3833 - accuracy: 0.8182\n",
      "Epoch 66/100\n",
      "83/83 [==============================] - 0s 3ms/step - loss: 0.3835 - accuracy: 0.8165\n",
      "Epoch 67/100\n",
      "83/83 [==============================] - 0s 3ms/step - loss: 0.3836 - accuracy: 0.8163\n",
      "Epoch 68/100\n",
      "83/83 [==============================] - 0s 3ms/step - loss: 0.3837 - accuracy: 0.8155\n",
      "Epoch 69/100\n",
      "83/83 [==============================] - 0s 4ms/step - loss: 0.3838 - accuracy: 0.8168\n",
      "Epoch 70/100\n",
      "83/83 [==============================] - 0s 3ms/step - loss: 0.3833 - accuracy: 0.8170\n",
      "Epoch 71/100\n",
      "83/83 [==============================] - 0s 3ms/step - loss: 0.3842 - accuracy: 0.8159\n",
      "Epoch 72/100\n",
      "83/83 [==============================] - 0s 3ms/step - loss: 0.3841 - accuracy: 0.8159\n",
      "Epoch 73/100\n",
      "83/83 [==============================] - 0s 3ms/step - loss: 0.3840 - accuracy: 0.8168\n",
      "Epoch 74/100\n",
      "83/83 [==============================] - 0s 3ms/step - loss: 0.3840 - accuracy: 0.8170\n",
      "Epoch 75/100\n",
      "83/83 [==============================] - 0s 3ms/step - loss: 0.3835 - accuracy: 0.8165\n",
      "Epoch 76/100\n",
      "83/83 [==============================] - 0s 3ms/step - loss: 0.3836 - accuracy: 0.8174\n",
      "Epoch 77/100\n",
      "83/83 [==============================] - 0s 3ms/step - loss: 0.3838 - accuracy: 0.8166\n",
      "Epoch 78/100\n",
      "83/83 [==============================] - 0s 3ms/step - loss: 0.3837 - accuracy: 0.8157\n",
      "Epoch 79/100\n",
      "83/83 [==============================] - 0s 3ms/step - loss: 0.3848 - accuracy: 0.8163\n",
      "Epoch 80/100\n",
      "83/83 [==============================] - 0s 3ms/step - loss: 0.3834 - accuracy: 0.8178\n",
      "Epoch 81/100\n",
      "83/83 [==============================] - 0s 3ms/step - loss: 0.3844 - accuracy: 0.8163\n",
      "Epoch 82/100\n",
      "83/83 [==============================] - 0s 3ms/step - loss: 0.3847 - accuracy: 0.8182\n",
      "Epoch 83/100\n",
      "83/83 [==============================] - 0s 4ms/step - loss: 0.3839 - accuracy: 0.8172\n",
      "Epoch 84/100\n",
      "83/83 [==============================] - 0s 4ms/step - loss: 0.3835 - accuracy: 0.8178\n",
      "Epoch 85/100\n",
      "83/83 [==============================] - 0s 3ms/step - loss: 0.3836 - accuracy: 0.8170\n",
      "Epoch 86/100\n",
      "83/83 [==============================] - 0s 3ms/step - loss: 0.3841 - accuracy: 0.8172\n",
      "Epoch 87/100\n",
      "83/83 [==============================] - 0s 4ms/step - loss: 0.3837 - accuracy: 0.8170\n",
      "Epoch 88/100\n",
      "83/83 [==============================] - 0s 3ms/step - loss: 0.3834 - accuracy: 0.8157\n",
      "Epoch 89/100\n",
      "83/83 [==============================] - 0s 4ms/step - loss: 0.3837 - accuracy: 0.8172\n",
      "Epoch 90/100\n",
      "83/83 [==============================] - 0s 3ms/step - loss: 0.3833 - accuracy: 0.8187\n",
      "Epoch 91/100\n",
      "83/83 [==============================] - 0s 3ms/step - loss: 0.3834 - accuracy: 0.8157\n",
      "Epoch 92/100\n",
      "83/83 [==============================] - 0s 3ms/step - loss: 0.3833 - accuracy: 0.8157\n",
      "Epoch 93/100\n",
      "83/83 [==============================] - 0s 3ms/step - loss: 0.3843 - accuracy: 0.8151\n",
      "Epoch 94/100\n",
      "83/83 [==============================] - 0s 3ms/step - loss: 0.3840 - accuracy: 0.8168\n",
      "Epoch 95/100\n",
      "83/83 [==============================] - 0s 3ms/step - loss: 0.3846 - accuracy: 0.8191\n",
      "Epoch 96/100\n",
      "83/83 [==============================] - 0s 3ms/step - loss: 0.3836 - accuracy: 0.8172\n",
      "Epoch 97/100\n",
      "83/83 [==============================] - 0s 3ms/step - loss: 0.3835 - accuracy: 0.8165\n",
      "Epoch 98/100\n",
      "83/83 [==============================] - 0s 4ms/step - loss: 0.3836 - accuracy: 0.8172\n",
      "Epoch 99/100\n",
      "83/83 [==============================] - 0s 3ms/step - loss: 0.3839 - accuracy: 0.8148\n",
      "Epoch 100/100\n",
      "83/83 [==============================] - 0s 3ms/step - loss: 0.3834 - accuracy: 0.8172\n"
     ]
    },
    {
     "data": {
      "text/plain": [
       "<tensorflow.python.keras.callbacks.History at 0x1e87ff47148>"
      ]
     },
     "execution_count": 125,
     "metadata": {},
     "output_type": "execute_result"
    }
   ],
   "source": [
    "#Training the ANN on Training set\n",
    "ann.fit(x1_train, y1_train, batch_size = 64, epochs= 100)"
   ]
  },
  {
   "cell_type": "markdown",
   "metadata": {},
   "source": [
    "# Predicting the test set result"
   ]
  },
  {
   "cell_type": "code",
   "execution_count": 126,
   "metadata": {},
   "outputs": [
    {
     "name": "stdout",
     "output_type": "stream",
     "text": [
      "[[0 0]\n",
      " [1 1]\n",
      " [0 0]\n",
      " ...\n",
      " [0 0]\n",
      " [0 0]\n",
      " [0 0]]\n"
     ]
    }
   ],
   "source": [
    "y1_pred = ann.predict(x1_test)\n",
    "y1_pred = (y1_pred > 0.5)\n",
    "print(np.concatenate((y1_pred.reshape(len(y1_pred),1), y1_test.reshape(len(y1_test),1)),1))"
   ]
  },
  {
   "cell_type": "markdown",
   "metadata": {},
   "source": [
    "# Making confusion Matrix"
   ]
  },
  {
   "cell_type": "code",
   "execution_count": 127,
   "metadata": {},
   "outputs": [
    {
     "name": "stdout",
     "output_type": "stream",
     "text": [
      "[[1149  145]\n",
      " [ 215  249]]\n"
     ]
    },
    {
     "data": {
      "text/plain": [
       "0.7952218430034129"
      ]
     },
     "execution_count": 127,
     "metadata": {},
     "output_type": "execute_result"
    }
   ],
   "source": [
    "from sklearn.metrics import confusion_matrix, accuracy_score\n",
    "cm = confusion_matrix(y1_test, y1_pred)\n",
    "print(cm)\n",
    "accuracy_score(y1_test, y_pred)"
   ]
  },
  {
   "cell_type": "code",
   "execution_count": null,
   "metadata": {},
   "outputs": [],
   "source": []
  }
 ],
 "metadata": {
  "kernelspec": {
   "display_name": "Python 3",
   "language": "python",
   "name": "python3"
  },
  "language_info": {
   "codemirror_mode": {
    "name": "ipython",
    "version": 3
   },
   "file_extension": ".py",
   "mimetype": "text/x-python",
   "name": "python",
   "nbconvert_exporter": "python",
   "pygments_lexer": "ipython3",
   "version": "3.7.6"
  }
 },
 "nbformat": 4,
 "nbformat_minor": 4
}
